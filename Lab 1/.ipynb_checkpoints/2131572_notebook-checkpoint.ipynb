{
 "cells": [
  {
   "cell_type": "markdown",
   "metadata": {
    "id": "QLELjCBNDQt-"
   },
   "source": [
    "## Suzannah Downie 24/01/2022 2131572"
   ]
  },
  {
   "cell_type": "code",
   "execution_count": 1,
   "metadata": {
    "id": "W-rGCpcwR54l"
   },
   "outputs": [],
   "source": [
    "import numpy as np\n",
    "import matplotlib.pyplot as plt"
   ]
  },
  {
   "cell_type": "markdown",
   "metadata": {
    "id": "U0mR0SNTIqJ6"
   },
   "source": [
    "# Task 1.1"
   ]
  },
  {
   "cell_type": "code",
   "execution_count": 2,
   "metadata": {
    "id": "CXpg42HdArSK"
   },
   "outputs": [],
   "source": [
    "x = 345"
   ]
  },
  {
   "cell_type": "code",
   "execution_count": 3,
   "metadata": {
    "colab": {
     "base_uri": "https://localhost:8080/"
    },
    "id": "pJlwVf-PFf0f",
    "outputId": "32e558c5-9db6-4b94-e260-87df60912aca"
   },
   "outputs": [
    {
     "name": "stdout",
     "output_type": "stream",
     "text": [
      "815\n"
     ]
    }
   ],
   "source": [
    "x = 2 * x + 5 ** 3\n",
    "print(x)"
   ]
  },
  {
   "cell_type": "code",
   "execution_count": 4,
   "metadata": {
    "id": "YxNmYEQ2F1Ad"
   },
   "outputs": [
    {
     "name": "stdout",
     "output_type": "stream",
     "text": [
      "Hello World\n"
     ]
    }
   ],
   "source": [
    "print(\"Hello World\")"
   ]
  },
  {
   "cell_type": "code",
   "execution_count": 5,
   "metadata": {
    "id": "djO8DSEaF4wm"
   },
   "outputs": [],
   "source": [
    "def my_func(w, x, b):\n",
    "    result = w * x + b \n",
    "    return result"
   ]
  },
  {
   "cell_type": "code",
   "execution_count": 6,
   "metadata": {
    "colab": {
     "base_uri": "https://localhost:8080/"
    },
    "id": "HZWtvV4lHFsV",
    "outputId": "904e0cfd-98f5-43d7-b8c4-dad6e0cd8888"
   },
   "outputs": [
    {
     "data": {
      "text/plain": [
       "815"
      ]
     },
     "execution_count": 6,
     "metadata": {},
     "output_type": "execute_result"
    }
   ],
   "source": [
    "my_func(2, 345, 5**3)"
   ]
  },
  {
   "cell_type": "markdown",
   "metadata": {
    "id": "y10Wzn4UIz12"
   },
   "source": [
    "# Task 1.2"
   ]
  },
  {
   "cell_type": "code",
   "execution_count": 7,
   "metadata": {
    "id": "qVI99IHiI1fp"
   },
   "outputs": [],
   "source": [
    "my_list = [\"Cat\", \"Dog\", \"Mouse\", \"Bat\", \"Bunny\"]"
   ]
  },
  {
   "cell_type": "code",
   "execution_count": 8,
   "metadata": {
    "colab": {
     "base_uri": "https://localhost:8080/"
    },
    "id": "s7cYzLXNJBfo",
    "outputId": "6b6b2695-2120-4b49-cc11-98110cf87670"
   },
   "outputs": [
    {
     "name": "stdout",
     "output_type": "stream",
     "text": [
      "Bunny\n",
      "Bat\n",
      "Mouse\n",
      "Dog\n",
      "Cat\n"
     ]
    }
   ],
   "source": [
    "for i in range (len(my_list) -1, -1, -1):\n",
    "    print(my_list[i])"
   ]
  },
  {
   "cell_type": "code",
   "execution_count": 9,
   "metadata": {
    "id": "HaGDbsPtJaTM"
   },
   "outputs": [],
   "source": [
    "def equals_100(x):\n",
    "     if x == 100: \n",
    "         return True\n",
    "     else:\n",
    "         return False\n"
   ]
  },
  {
   "cell_type": "code",
   "execution_count": 10,
   "metadata": {
    "colab": {
     "base_uri": "https://localhost:8080/"
    },
    "id": "ZpQRL2ooLCqb",
    "outputId": "39f0f8aa-8b90-405a-bc92-fc76e98feb48"
   },
   "outputs": [
    {
     "data": {
      "text/plain": [
       "False"
      ]
     },
     "execution_count": 10,
     "metadata": {},
     "output_type": "execute_result"
    }
   ],
   "source": [
    "equals_100(99)"
   ]
  },
  {
   "cell_type": "code",
   "execution_count": 11,
   "metadata": {
    "colab": {
     "base_uri": "https://localhost:8080/"
    },
    "id": "u1aqNxcNLFJ_",
    "outputId": "6e9bc212-1a25-4f30-b868-2861ad344ca5"
   },
   "outputs": [
    {
     "data": {
      "text/plain": [
       "True"
      ]
     },
     "execution_count": 11,
     "metadata": {},
     "output_type": "execute_result"
    }
   ],
   "source": [
    "equals_100(100)"
   ]
  },
  {
   "cell_type": "code",
   "execution_count": 12,
   "metadata": {
    "id": "JxaRIsLYLH59"
   },
   "outputs": [],
   "source": [
    "my_dict = {\"data_name\": \"Animal counts\",\n",
    "                 \"label\": [\"cat\", \"dog\", \"fish\"],\n",
    "                 \"count\": [2, 5, 10]}"
   ]
  },
  {
   "cell_type": "code",
   "execution_count": 13,
   "metadata": {
    "colab": {
     "base_uri": "https://localhost:8080/"
    },
    "id": "p-BEukvwMvsg",
    "outputId": "068c30af-9881-4075-b40d-0e09542cc1c1"
   },
   "outputs": [
    {
     "name": "stdout",
     "output_type": "stream",
     "text": [
      "[2, 5, 10]\n"
     ]
    }
   ],
   "source": [
    "print(list(my_dict.values())[2])"
   ]
  },
  {
   "cell_type": "code",
   "execution_count": 14,
   "metadata": {
    "colab": {
     "base_uri": "https://localhost:8080/"
    },
    "id": "EQWZCgCX9akH",
    "outputId": "0d3151d2-19eb-496c-8bd6-095ebaf0c78c"
   },
   "outputs": [
    {
     "name": "stdout",
     "output_type": "stream",
     "text": [
      "[2, 5, 10]\n"
     ]
    }
   ],
   "source": [
    "print(my_dict[\"count\"])"
   ]
  },
  {
   "cell_type": "code",
   "execution_count": 15,
   "metadata": {
    "colab": {
     "base_uri": "https://localhost:8080/"
    },
    "id": "TSCdqDS9NUhB",
    "outputId": "f2aa68b0-6141-4c6b-b9bf-4823ee122a91"
   },
   "outputs": [
    {
     "name": "stdout",
     "output_type": "stream",
     "text": [
      "Animal name: dog, count: 5\n"
     ]
    }
   ],
   "source": [
    "print(f\"Animal name: {my_dict['label'][1]}, count: {my_dict['count'][1]}\")"
   ]
  },
  {
   "cell_type": "markdown",
   "metadata": {
    "id": "tSAe4QdiRI0K"
   },
   "source": [
    "# Task 1.3"
   ]
  },
  {
   "cell_type": "code",
   "execution_count": 16,
   "metadata": {
    "id": "NjUEynflROLW"
   },
   "outputs": [],
   "source": [
    "array_1 = np.random.randint(100, size = (2,3))\n",
    "array_2 = np.random.randint(100, size = (3,4))\n"
   ]
  },
  {
   "cell_type": "code",
   "execution_count": 17,
   "metadata": {
    "id": "UB12WR1uSYKo"
   },
   "outputs": [],
   "source": [
    "array_3 = np.dot(array_1, array_2)"
   ]
  },
  {
   "cell_type": "code",
   "execution_count": 18,
   "metadata": {},
   "outputs": [
    {
     "name": "stdout",
     "output_type": "stream",
     "text": [
      "[[4402 3319 7833 4418]\n",
      " [6485 6542 4956 2308]]\n"
     ]
    }
   ],
   "source": [
    "print(array_3)"
   ]
  },
  {
   "cell_type": "code",
   "execution_count": 19,
   "metadata": {
    "colab": {
     "base_uri": "https://localhost:8080/"
    },
    "id": "0FPuZv6uWj2e",
    "outputId": "24dbfa31-9b56-4e50-d34c-ba17cdc88156"
   },
   "outputs": [
    {
     "name": "stdout",
     "output_type": "stream",
     "text": [
      "[4402 6485]\n"
     ]
    }
   ],
   "source": [
    "print(array_3[:,0])"
   ]
  },
  {
   "cell_type": "markdown",
   "metadata": {
    "id": "oolXPbl-XK9b"
   },
   "source": [
    "## Task 1.4"
   ]
  },
  {
   "cell_type": "code",
   "execution_count": 20,
   "metadata": {
    "colab": {
     "base_uri": "https://localhost:8080/",
     "height": 357
    },
    "id": "VRlg-vo9XPi3",
    "outputId": "8dc60ab1-14ff-4234-f19d-9c4b50e3acbf"
   },
   "outputs": [],
   "source": [
    "iris = np.load(\"Iris_data.npy\")"
   ]
  },
  {
   "cell_type": "code",
   "execution_count": 21,
   "metadata": {
    "colab": {
     "base_uri": "https://localhost:8080/",
     "height": 35
    },
    "id": "5FIWJBn9YU8I",
    "outputId": "d5c4af21-68fb-4b87-a9a9-8e1eb6000173"
   },
   "outputs": [
    {
     "data": {
      "text/plain": [
       "(150, 4)"
      ]
     },
     "execution_count": 21,
     "metadata": {},
     "output_type": "execute_result"
    }
   ],
   "source": [
    "iris.shape"
   ]
  },
  {
   "cell_type": "code",
   "execution_count": 22,
   "metadata": {
    "id": "GkR_qsboZetb"
   },
   "outputs": [
    {
     "data": {
      "text/plain": [
       "Text(0, 0.5, 'Petal_Width')"
      ]
     },
     "execution_count": 22,
     "metadata": {},
     "output_type": "execute_result"
    },
    {
     "data": {
      "image/png": "[encoded data removed]",
      "text/plain": [
       "<Figure size 432x288 with 1 Axes>"
      ]
     },
     "metadata": {
      "needs_background": "light"
     },
     "output_type": "display_data"
    }
   ],
   "source": [
    "plt.scatter(iris[:,2], iris[:, 3])\n",
    "plt.title(\"Iris\")\n",
    "plt.xlabel(\"Petal_Length\")\n",
    "plt.ylabel(\"Petal_Width\")"
   ]
  },
  {
   "cell_type": "code",
   "execution_count": null,
   "metadata": {},
   "outputs": [],
   "source": []
  }
 ],
 "metadata": {
  "colab": {
   "name": "2131572_notebook.ipynb",
   "provenance": [],
   "toc_visible": true
  },
  "kernelspec": {
   "display_name": "Python 3",
   "language": "python",
   "name": "python3"
  },
  "language_info": {
   "codemirror_mode": {
    "name": "ipython",
    "version": 3
   },
   "file_extension": ".py",
   "mimetype": "text/x-python",
   "name": "python",
   "nbconvert_exporter": "python",
   "pygments_lexer": "ipython3",
   "version": "3.7.7"
  }
 },
 "nbformat": 4,
 "nbformat_minor": 1
}
