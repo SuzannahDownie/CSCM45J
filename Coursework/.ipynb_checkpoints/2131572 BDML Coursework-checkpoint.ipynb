{
 "cells": [
  {
   "cell_type": "markdown",
   "id": "8fb10117",
   "metadata": {},
   "source": [
    "### CSCM45J Big Data and Machine Learning Coursework - Object Recognition\n",
    "\n"
   ]
  },
  {
   "cell_type": "markdown",
   "id": "046b5780",
   "metadata": {},
   "source": [
    "### Import necessary libraries"
   ]
  },
  {
   "cell_type": "code",
   "execution_count": 75,
   "id": "82a128d5",
   "metadata": {},
   "outputs": [
    {
     "name": "stdout",
     "output_type": "stream",
     "text": [
      "2.4.0\n"
     ]
    }
   ],
   "source": [
    "import numpy as np\n",
    "import matplotlib.pyplot as plt\n",
    "import skimage.feature\n",
    "import pandas as pd\n",
    "from scipy import stats\n",
    "from sklearn import svm\n",
    "from sklearn.metrics import confusion_matrix\n",
    "from sklearn.metrics import ConfusionMatrixDisplay\n",
    "from sklearn.model_selection import train_test_split\n",
    "from sklearn.model_selection import GridSearchCV\n",
    "import tensorflow as tf\n",
    "import tensorflow.keras as keras\n",
    "from tensorflow.keras import layers\n",
    "from tensorflow.keras.layers import Dense, Dropout, Activation, Flatten, LeakyReLU\n",
    "from tensorflow.keras.layers import Conv2D, MaxPooling2D\n",
    "print(tf.__version__)"
   ]
  },
  {
   "cell_type": "markdown",
   "id": "f60c2368",
   "metadata": {},
   "source": [
    "### Create functions\n",
    "\n",
    "Now that we have imported the libraries we wish to use, we need to create some functions to make some of our code reusable. This will save time when we need to reuse code with different parameters."
   ]
  },
  {
   "cell_type": "code",
   "execution_count": 2,
   "id": "c89cab13",
   "metadata": {},
   "outputs": [],
   "source": [
    "# Function to plot accuracy curves for Neural Nets and Convolutional Neural Nets\n",
    "def plot_acc_loss(history):\n",
    "    \n",
    "    plt.figure(figsize=[10,5])\n",
    "    plt.subplot(121)\n",
    "    plt.plot(history.history['sparse_categorical_accuracy'])\n",
    "    plt.plot(history.history['val_sparse_categorical_accuracy'])\n",
    "    plt.xlabel('Epoch')\n",
    "    plt.ylabel('Accuracy')\n",
    "    plt.legend(['Training Accuracy',\n",
    "               'Validation Accuracy'])\n",
    "    plt.title('Accuracy Curves')\n",
    "\n",
    "    plt.subplot(122)\n",
    "    plt.plot(history.history['loss'])\n",
    "    plt.plot(history.history['val_loss'])\n",
    "    plt.xlabel('Epoch')\n",
    "    plt.ylabel('Loss')\n",
    "    plt.legend(['Training Loss',\n",
    "               'Validation Loss'])\n",
    "    plt.title('Loss Curves')\n",
    "    \n",
    "    return plt.show()"
   ]
  },
  {
   "cell_type": "code",
   "execution_count": 3,
   "id": "4bfaab4c",
   "metadata": {},
   "outputs": [],
   "source": [
    "# Function to create a Convolutional Neural Network - this will keep the network shape but allow us to try different\n",
    "# parameters and different labels (coarse and fine)\n",
    "\n",
    "def create_cnn_model(activation, kernel_size, pooling_size, labels):\n",
    "\n",
    "    cnn_model = tf.keras.Sequential()\n",
    "    cnn_model.add(Conv2D(32, kernel_size, activation = activation, input_shape = (32, 32, 3)))\n",
    "    cnn_model.add(layers.MaxPooling2D((pooling_size)))\n",
    "\n",
    "    cnn_model.add(layers.Conv2D(64, kernel_size, activation = activation))\n",
    "    cnn_model.add(layers.MaxPooling2D(pooling_size))\n",
    "\n",
    "    cnn_model.add(layers.Conv2D(128, kernel_size, activation = activation))\n",
    "    cnn_model.add(layers.MaxPool2D(pooling_size))\n",
    "\n",
    "    cnn_model.add(layers.Flatten())\n",
    "    cnn_model.add(layers.Dense(64, activation = activation))\n",
    "    cnn_model.add(layers.Dense(len(np.unique(labels)), activation=tf.nn.softmax))\n",
    "    \n",
    "    cnn_model.compile(optimizer = tf.keras.optimizers.Adam(), \n",
    "              loss = tf.keras.losses.SparseCategoricalCrossentropy(), \n",
    "              metrics = tf.keras.metrics.SparseCategoricalAccuracy())\n",
    "    \n",
    "    return cnn_model"
   ]
  },
  {
   "cell_type": "code",
   "execution_count": 4,
   "id": "eacdf361",
   "metadata": {},
   "outputs": [],
   "source": [
    "# Function to run the CNN model created and specify the number of epochs to run on\n",
    "def run_cnn_model(cnn_model, epochs, labels):\n",
    "    \n",
    "    history_cnn = cnn_model.fit(train_images, labels, validation_split = 0.2, epochs = epochs , verbose=1)\n",
    "    \n",
    "    return history_cnn"
   ]
  },
  {
   "cell_type": "code",
   "execution_count": 5,
   "id": "642dcf7b",
   "metadata": {},
   "outputs": [],
   "source": [
    "# Function to create the Neural Network model and experiment with different activation functions\n",
    "def create_nn_model(activation, labels):\n",
    "    nn_model = tf.keras.Sequential(layers = [tf.keras.layers.Dense(576, activation = activation),\n",
    "#                                      tf.keras.layers.Dense(800, activation = activation),\n",
    "                                     tf.keras.layers.Dense(250, activation = activation),\n",
    "                                     tf.keras.layers.Dense(100, activation = activation),\n",
    "                                     tf.keras.layers.Dense(50, activation = activation),\n",
    "#                                      tf.keras.layers.Dropout(rate=0.5),\n",
    "#                                      tf.keras.layers.Dense(25, activation = activation),\n",
    "                                     tf.keras.layers.Dense(len(np.unique(labels)), activation=tf.nn.softmax)])\n",
    "\n",
    "    nn_model.compile(optimizer = tf.keras.optimizers.Adam(learning_rate = 0.001), \n",
    "                  loss = tf.keras.losses.SparseCategoricalCrossentropy(), \n",
    "                  metrics = tf.keras.metrics.SparseCategoricalAccuracy())\n",
    "    \n",
    "    return nn_model"
   ]
  },
  {
   "cell_type": "code",
   "execution_count": 6,
   "id": "8df427b2",
   "metadata": {},
   "outputs": [],
   "source": [
    "# Function to run the NN model created and specify the number of epochs to run on.\n",
    "def run_nn_model(nn_model, epochs, labels):\n",
    "    \n",
    "    history_nn = nn_model.fit(X_train, labels, validation_split = 0.2, epochs = epochs , verbose=1)\n",
    "    \n",
    "    return history_nn"
   ]
  },
  {
   "cell_type": "code",
   "execution_count": 7,
   "id": "d635cc77",
   "metadata": {},
   "outputs": [],
   "source": [
    "# Function to create and display confusion matrix based on predicted and true labels\n",
    "def create_display_cm(y_test_label, prediction):\n",
    "    \n",
    "    confusion_mat = confusion_matrix(y_test_label, prediction)\n",
    "\n",
    "    display = ConfusionMatrixDisplay(confusion_matrix = confusion_mat)\n",
    "\n",
    "    fig, ax = plt.subplots(figsize=(12,12))\n",
    "    display.plot(ax=ax)   "
   ]
  },
  {
   "cell_type": "markdown",
   "id": "5c922f0f",
   "metadata": {},
   "source": [
    "### Import Data\n",
    "\n",
    "Next we will import the CIFAR 100 image data set. This is split in to training and test data. 50000 images comprise the training data and 10000 images comprise the testing data. We also import the relevant data labels for the training and test data."
   ]
  },
  {
   "cell_type": "code",
   "execution_count": 9,
   "id": "edca6280",
   "metadata": {},
   "outputs": [
    {
     "name": "stdout",
     "output_type": "stream",
     "text": [
      "(32, 32, 3, 50000)\n",
      "(50000,)\n",
      "(50000,)\n"
     ]
    }
   ],
   "source": [
    "# Import the training images\n",
    "train_images = np.load('./trnImage.npy')\n",
    "\n",
    "# Import the coarse and fine category labels for the training data (as integer)\n",
    "y_train_coarse = np.load('./trnLabel_coarse.npy')\n",
    "y_train_fine = np.load('./trnLabel_fine.npy')\n",
    "\n",
    "# Show the shape of the training data\n",
    "print(train_images.shape)\n",
    "print(y_train_coarse.shape)\n",
    "print(y_train_fine.shape)"
   ]
  },
  {
   "cell_type": "code",
   "execution_count": 10,
   "id": "fd796e22",
   "metadata": {},
   "outputs": [
    {
     "name": "stdout",
     "output_type": "stream",
     "text": [
      "(32, 32, 3, 10000)\n",
      "(10000,)\n",
      "(10000,)\n"
     ]
    }
   ],
   "source": [
    "# Import the testing images\n",
    "test_images = np.load('./tstImage.npy')\n",
    "\n",
    "# Import the coarse and fine category labels for the testing data (as integer)\n",
    "y_test_coarse = np.load('./tstLabel_coarse.npy')\n",
    "y_test_fine = np.load(\"./tstLabel_fine.npy\")\n",
    "\n",
    "# Show the shape of the testing data\n",
    "print(test_images.shape)\n",
    "print(y_test_coarse.shape)\n",
    "print(y_test_fine.shape)"
   ]
  },
  {
   "cell_type": "code",
   "execution_count": 11,
   "id": "4f908c91",
   "metadata": {},
   "outputs": [
    {
     "name": "stdout",
     "output_type": "stream",
     "text": [
      "(50000, 32, 32, 3)\n",
      "(10000, 32, 32, 3)\n"
     ]
    }
   ],
   "source": [
    "# Transpose the shape of the dimensional arrays to ensure that the number of samples is first\n",
    "train_images = np.transpose(train_images, [3, 0, 1, 2])\n",
    "print(train_images.shape)\n",
    "\n",
    "test_images = np.transpose(test_images, [3, 0, 1, 2])\n",
    "print(test_images.shape)"
   ]
  },
  {
   "cell_type": "markdown",
   "id": "f1448a4c",
   "metadata": {},
   "source": [
    "### Method 3 - Convolutional Neural Networks\n",
    "\n",
    "The final method we will use "
   ]
  },
  {
   "cell_type": "code",
   "execution_count": 12,
   "id": "b21f3c4c",
   "metadata": {},
   "outputs": [
    {
     "name": "stderr",
     "output_type": "stream",
     "text": [
      "2022-04-15 19:57:09.515053: I tensorflow/core/platform/cpu_feature_guard.cc:142] This TensorFlow binary is optimized with oneAPI Deep Neural Network Library (oneDNN) to use the following CPU instructions in performance-critical operations:  SSE4.1 SSE4.2 AVX AVX2 FMA\n",
      "To enable them in other operations, rebuild TensorFlow with the appropriate compiler flags.\n",
      "2022-04-15 19:57:12.161036: I tensorflow/compiler/mlir/mlir_graph_optimization_pass.cc:116] None of the MLIR optimization passes are enabled (registered 2)\n"
     ]
    },
    {
     "name": "stdout",
     "output_type": "stream",
     "text": [
      "Epoch 1/12\n",
      "1250/1250 [==============================] - 24s 19ms/step - loss: 2.7103 - sparse_categorical_accuracy: 0.1543 - val_loss: 2.2567 - val_sparse_categorical_accuracy: 0.3034\n",
      "Epoch 2/12\n",
      "1250/1250 [==============================] - 23s 18ms/step - loss: 2.1966 - sparse_categorical_accuracy: 0.3199 - val_loss: 2.0774 - val_sparse_categorical_accuracy: 0.3591\n",
      "Epoch 3/12\n",
      "1250/1250 [==============================] - 25s 20ms/step - loss: 1.9855 - sparse_categorical_accuracy: 0.3782 - val_loss: 1.9333 - val_sparse_categorical_accuracy: 0.4031\n",
      "Epoch 4/12\n",
      "1250/1250 [==============================] - 23s 19ms/step - loss: 1.8470 - sparse_categorical_accuracy: 0.4238 - val_loss: 1.9003 - val_sparse_categorical_accuracy: 0.4133\n",
      "Epoch 5/12\n",
      "1250/1250 [==============================] - 23s 18ms/step - loss: 1.7287 - sparse_categorical_accuracy: 0.4602 - val_loss: 1.7944 - val_sparse_categorical_accuracy: 0.4471\n",
      "Epoch 6/12\n",
      "1250/1250 [==============================] - 23s 18ms/step - loss: 1.6630 - sparse_categorical_accuracy: 0.4778 - val_loss: 1.7489 - val_sparse_categorical_accuracy: 0.4615\n",
      "Epoch 7/12\n",
      "1250/1250 [==============================] - 23s 18ms/step - loss: 1.5811 - sparse_categorical_accuracy: 0.5058 - val_loss: 1.7568 - val_sparse_categorical_accuracy: 0.4587\n",
      "Epoch 8/12\n",
      "1250/1250 [==============================] - 23s 19ms/step - loss: 1.5135 - sparse_categorical_accuracy: 0.5248 - val_loss: 1.7751 - val_sparse_categorical_accuracy: 0.4614\n",
      "Epoch 9/12\n",
      "1250/1250 [==============================] - 23s 19ms/step - loss: 1.4508 - sparse_categorical_accuracy: 0.5434 - val_loss: 1.7329 - val_sparse_categorical_accuracy: 0.4714\n",
      "Epoch 10/12\n",
      "1250/1250 [==============================] - 23s 19ms/step - loss: 1.3869 - sparse_categorical_accuracy: 0.5572 - val_loss: 1.7358 - val_sparse_categorical_accuracy: 0.4806\n",
      "Epoch 11/12\n",
      "1250/1250 [==============================] - 24s 19ms/step - loss: 1.3278 - sparse_categorical_accuracy: 0.5770 - val_loss: 1.7130 - val_sparse_categorical_accuracy: 0.4811\n",
      "Epoch 12/12\n",
      "1250/1250 [==============================] - 25s 20ms/step - loss: 1.2703 - sparse_categorical_accuracy: 0.5944 - val_loss: 1.7381 - val_sparse_categorical_accuracy: 0.4814\n"
     ]
    },
    {
     "data": {
      "image/png": "[encoded data removed]",
      "text/plain": [
       "<Figure size 720x360 with 2 Axes>"
      ]
     },
     "metadata": {
      "needs_background": "light"
     },
     "output_type": "display_data"
    },
    {
     "name": "stdout",
     "output_type": "stream",
     "text": [
      "313/313 [==============================] - 1s 4ms/step - loss: 1.7279 - sparse_categorical_accuracy: 0.4737\n"
     ]
    }
   ],
   "source": [
    "cnn_model_1 = create_cnn_model(activation = 'relu', kernel_size = 3, pooling_size = 2, labels = y_train_coarse)\n",
    "\n",
    "cnn_history_1 = run_cnn_model(cnn_model_1, 12, y_train_coarse)\n",
    "\n",
    "plot_acc_loss(cnn_history_1)\n",
    "\n",
    "result = cnn_model_1.evaluate(test_images, y_test_coarse)"
   ]
  },
  {
   "cell_type": "code",
   "execution_count": 14,
   "id": "f629f41f",
   "metadata": {},
   "outputs": [],
   "source": [
    "y_pred_cnn = cnn_model_1.predict(test_images)\n",
    "y_pred_cnn = np.argmax(y_pred_cnn, axis=1)"
   ]
  },
  {
   "cell_type": "code",
   "execution_count": 15,
   "id": "4b7273ca",
   "metadata": {},
   "outputs": [
    {
     "data": {
      "image/png": "[encoded data removed]",
      "text/plain": [
       "<Figure size 864x864 with 2 Axes>"
      ]
     },
     "metadata": {
      "needs_background": "light"
     },
     "output_type": "display_data"
    }
   ],
   "source": [
    "create_display_cm(y_test_coarse, y_pred_cnn)"
   ]
  },
  {
   "cell_type": "code",
   "execution_count": null,
   "id": "b13c9483",
   "metadata": {},
   "outputs": [],
   "source": [
    "leaky_relu = LeakyReLU(alpha = 0.02)\n",
    "\n",
    "cnn_model_2 = create_cnn_model(activation = leaky_relu, kernel_size = 3, pooling_size = 2, labels = y_train_coarse)\n",
    "\n",
    "cnn_history_2 = run_cnn_model(cnn_model_2, 12, y_train_coarse)\n",
    "\n",
    "plot_acc_loss(cnn_history_2)\n",
    "\n",
    "result = cnn_model_2.evaluate(test_images, y_test_coarse)"
   ]
  },
  {
   "cell_type": "code",
   "execution_count": null,
   "id": "0b1fd633",
   "metadata": {},
   "outputs": [],
   "source": [
    "cnn_model_3 = create_cnn_model(activation = 'relu', kernel_size = 3, pooling_size = 2, labels = y_train_fine)\n",
    "\n",
    "cnn_history_3 = run_cnn_model(cnn_model_3, 12, y_train_fine)\n",
    "\n",
    "plot_acc_loss(cnn_history_3)\n",
    "\n",
    "result = cnn_model_3.evaluate(test_images, y_test_fine)"
   ]
  },
  {
   "cell_type": "code",
   "execution_count": null,
   "id": "79ff540c",
   "metadata": {},
   "outputs": [],
   "source": [
    "leaky_relu = LeakyReLU(alpha = 0.02)\n",
    "\n",
    "cnn_model_4 = create_cnn_model(activation = leaky_relu, kernel_size = 3, pooling_size = 2, labels = y_train_fine)\n",
    "\n",
    "cnn_history_4 = run_cnn_model(cnn_model_4, 12, y_train_fine)\n",
    "\n",
    "plot_acc_loss(cnn_history_4)\n",
    "\n",
    "result = cnn_model_4.evaluate(test_images, y_test_fine)"
   ]
  },
  {
   "cell_type": "code",
   "execution_count": 17,
   "id": "bd3d7fe4",
   "metadata": {},
   "outputs": [],
   "source": [
    "X_train = np.zeros((576, 50000))\n",
    "X_test = np.zeros((576, 10000))"
   ]
  },
  {
   "cell_type": "code",
   "execution_count": 18,
   "id": "65a877cb",
   "metadata": {},
   "outputs": [
    {
     "name": "stdout",
     "output_type": "stream",
     "text": [
      "(576, 50000)\n",
      "(576, 10000)\n"
     ]
    }
   ],
   "source": [
    "for train_i in range(50000):\n",
    "    train_feature = skimage.feature.hog(train_images[train_i, :, :, :], pixels_per_cell=[6,6], cells_per_block=[2,2], \n",
    "                                        visualize = False, multichannel = True, block_norm = 'L2-Hys')\n",
    "    X_train[:, train_i] = train_feature\n",
    "\n",
    "for test_i in range(10000):\n",
    "    test_feature = skimage.feature.hog(test_images[test_i, :, :, :], pixels_per_cell=[6,6], cells_per_block=[2,2], \n",
    "                                       visualize = False, multichannel = True, block_norm = 'L2-Hys')\n",
    "    X_test[:, test_i] = test_feature\n",
    "\n",
    "print(X_train.shape)\n",
    "print(X_test.shape)"
   ]
  },
  {
   "cell_type": "code",
   "execution_count": 19,
   "id": "c8eee849",
   "metadata": {},
   "outputs": [
    {
     "name": "stdout",
     "output_type": "stream",
     "text": [
      "Shape of transposed: (50000, 576)\n",
      "Shape of transposed: (10000, 576)\n"
     ]
    }
   ],
   "source": [
    "X_train = np.transpose(X_train, [1,0])\n",
    "print(f'Shape of transposed: {X_train.shape}')\n",
    "\n",
    "X_test = np.transpose(X_test, [1,0])\n",
    "print(f'Shape of transposed: {X_test.shape}')"
   ]
  },
  {
   "cell_type": "code",
   "execution_count": null,
   "id": "cde7ca71",
   "metadata": {},
   "outputs": [],
   "source": [
    "nn_model_1 = create_nn_model('sigmoid', y_train_coarse)\n",
    "\n",
    "nn_history_1 = run_nn_model(nn_model_1, 25, y_train_coarse)\n",
    "\n",
    "plot_acc_loss(nn_history_1)\n",
    "\n",
    "result = nn_model_1.evaluate(X_test, y_test_coarse)"
   ]
  },
  {
   "cell_type": "code",
   "execution_count": null,
   "id": "5caa25da",
   "metadata": {},
   "outputs": [],
   "source": [
    "y_pred = nn_model_1.predict(X_test)\n",
    "y_pred = np.argmax(y_pred, axis=1)"
   ]
  },
  {
   "cell_type": "code",
   "execution_count": null,
   "id": "0e6d1036",
   "metadata": {},
   "outputs": [],
   "source": [
    "create_display_cm(y_test_coarse, y_pred)"
   ]
  },
  {
   "cell_type": "code",
   "execution_count": null,
   "id": "37350fee",
   "metadata": {},
   "outputs": [],
   "source": []
  },
  {
   "cell_type": "code",
   "execution_count": null,
   "id": "13baadc4",
   "metadata": {},
   "outputs": [],
   "source": [
    "nn_model_2 = create_nn_model('sigmoid', y_train_fine)\n",
    "\n",
    "nn_history_2 = run_nn_model(nn_model_2, 35, y_train_fine)\n",
    "\n",
    "plot_acc_loss(nn_history_2)\n",
    "\n",
    "result = nn_model_2.evaluate(X_test, y_test_fine)"
   ]
  },
  {
   "cell_type": "code",
   "execution_count": null,
   "id": "7f2f726f",
   "metadata": {},
   "outputs": [],
   "source": [
    "y_pred_2 = nn_model_2.predict(X_test)\n",
    "y_pred_2 = np.argmax(y_pred_2, axis=1)"
   ]
  },
  {
   "cell_type": "code",
   "execution_count": null,
   "id": "213e4316",
   "metadata": {},
   "outputs": [],
   "source": [
    "create_display_cm(y_test_fine, y_pred_2)"
   ]
  },
  {
   "cell_type": "code",
   "execution_count": null,
   "id": "baba2e4e",
   "metadata": {},
   "outputs": [],
   "source": []
  },
  {
   "cell_type": "code",
   "execution_count": null,
   "id": "7d2023f1",
   "metadata": {},
   "outputs": [],
   "source": []
  },
  {
   "cell_type": "code",
   "execution_count": null,
   "id": "956dc48e",
   "metadata": {},
   "outputs": [],
   "source": []
  },
  {
   "cell_type": "code",
   "execution_count": null,
   "id": "f5dc0294",
   "metadata": {},
   "outputs": [],
   "source": []
  },
  {
   "cell_type": "code",
   "execution_count": null,
   "id": "9e189444",
   "metadata": {},
   "outputs": [],
   "source": []
  },
  {
   "cell_type": "code",
   "execution_count": null,
   "id": "7fe11972",
   "metadata": {},
   "outputs": [],
   "source": []
  },
  {
   "cell_type": "code",
   "execution_count": null,
   "id": "239f800c",
   "metadata": {},
   "outputs": [],
   "source": [
    "# rand_params = {\"C\": stats.uniform(2, 10),\n",
    "#              \"gamma\": stats.uniform(0.1, 1)}"
   ]
  },
  {
   "cell_type": "code",
   "execution_count": null,
   "id": "2a16c6a5",
   "metadata": {},
   "outputs": [],
   "source": [
    "# param_grid = {'C': [1, 3, 5, 10],\n",
    "#               'kernel': ['poly', 'sigmoid', 'linear']}"
   ]
  },
  {
   "cell_type": "code",
   "execution_count": null,
   "id": "3d96fd5f",
   "metadata": {},
   "outputs": [],
   "source": [
    "# grid = GridSearchCV(svm.SVC(), param_grid, refit = True, verbose = 2, cv = 3)\n",
    "# grid = RandomizedSearchCV(svm.SVC(), param_distributions = rand_params, n_iter = 20, n_jobs = 4, cv = 3, \n",
    "#                           random_state = 42) \n"
   ]
  },
  {
   "cell_type": "code",
   "execution_count": null,
   "id": "b6654d74",
   "metadata": {},
   "outputs": [],
   "source": [
    "# grid.fit(X_train, y_train_coarse)\n"
   ]
  },
  {
   "cell_type": "code",
   "execution_count": 22,
   "id": "c1148a9f",
   "metadata": {},
   "outputs": [
    {
     "data": {
      "text/plain": [
       "SVC(C=1, kernel='poly')"
      ]
     },
     "execution_count": 22,
     "metadata": {},
     "output_type": "execute_result"
    }
   ],
   "source": [
    "model = svm.SVC(kernel = 'poly', C = 1)\n",
    "\n",
    "model.fit(X_train, y_train_coarse)"
   ]
  },
  {
   "cell_type": "code",
   "execution_count": 23,
   "id": "3a1a0742",
   "metadata": {},
   "outputs": [
    {
     "data": {
      "text/plain": [
       "0.3905"
      ]
     },
     "execution_count": 23,
     "metadata": {},
     "output_type": "execute_result"
    }
   ],
   "source": [
    "model.score(X_test, y_test_coarse)"
   ]
  },
  {
   "cell_type": "code",
   "execution_count": null,
   "id": "5698c7e2",
   "metadata": {},
   "outputs": [],
   "source": [
    "svm_kernel_results = {'Kernel': ['rbf', 'poly',],\n",
    "          'Score': [39.39, ]}"
   ]
  },
  {
   "cell_type": "code",
   "execution_count": 64,
   "id": "a44914ce",
   "metadata": {},
   "outputs": [],
   "source": [
    "kernel_options = ['rbf', 'poly', 'linear', 'sigmoid']\n",
    "\n",
    "keys = ['Kernel', 'Score']\n",
    "\n",
    "values = [[],[]]\n",
    "\n",
    "for kernel_type in kernel_options:\n",
    "    model = svm.SVC(kernel = kernel_type, C = 1)\n",
    "    model.fit(X_train, y_train_coarse)\n",
    "    score = model.score(X_test, y_test_coarse)\n",
    "    values[0].append(kernel_type)\n",
    "    values[1].append(score)\n",
    "\n",
    "kernel_score_dict = dict(zip(keys, values))  "
   ]
  },
  {
   "cell_type": "code",
   "execution_count": 65,
   "id": "1cf992a8",
   "metadata": {},
   "outputs": [
    {
     "data": {
      "text/plain": [
       "{'Kernel': ['rbf', 'poly', 'linear', 'sigmoid'],\n",
       " 'Score': [0.3939, 0.3905, 0.309, 0.1054]}"
      ]
     },
     "execution_count": 65,
     "metadata": {},
     "output_type": "execute_result"
    }
   ],
   "source": [
    "kernel_score_dict"
   ]
  },
  {
   "cell_type": "code",
   "execution_count": 72,
   "id": "8c47a679",
   "metadata": {},
   "outputs": [
    {
     "data": {
      "image/png": "[encoded data removed]",
      "text/plain": [
       "<Figure size 432x288 with 1 Axes>"
      ]
     },
     "metadata": {
      "needs_background": "light"
     },
     "output_type": "display_data"
    }
   ],
   "source": [
    "plt.bar(range(len(kernel_score_dict['Kernel'])), kernel_score_dict['Score'], \n",
    "        tick_label = kernel_score_dict['Kernel'])\n",
    "plt.show()"
   ]
  },
  {
   "cell_type": "code",
   "execution_count": 73,
   "id": "d470d481",
   "metadata": {},
   "outputs": [],
   "source": [
    "param_grid = {'C': [1, 3, 5, 10],\n",
    "              'kernel': ['rbf']}"
   ]
  },
  {
   "cell_type": "code",
   "execution_count": 77,
   "id": "3601d4a1",
   "metadata": {},
   "outputs": [
    {
     "name": "stdout",
     "output_type": "stream",
     "text": [
      "Fitting 3 folds for each of 4 candidates, totalling 12 fits\n",
      "[CV] END ....................................C=1, kernel=rbf; total time=11.9min\n",
      "[CV] END ....................................C=1, kernel=rbf; total time=13.0min\n",
      "[CV] END ....................................C=1, kernel=rbf; total time=12.6min\n",
      "[CV] END ....................................C=3, kernel=rbf; total time=15.2min\n",
      "[CV] END ....................................C=3, kernel=rbf; total time=14.7min\n",
      "[CV] END ....................................C=3, kernel=rbf; total time=14.5min\n",
      "[CV] END ....................................C=5, kernel=rbf; total time=16.9min\n",
      "[CV] END ....................................C=5, kernel=rbf; total time=16.7min\n",
      "[CV] END ....................................C=5, kernel=rbf; total time=15.4min\n",
      "[CV] END ...................................C=10, kernel=rbf; total time=15.8min\n",
      "[CV] END ...................................C=10, kernel=rbf; total time=15.4min\n",
      "[CV] END ...................................C=10, kernel=rbf; total time=15.3min\n"
     ]
    },
    {
     "data": {
      "text/plain": [
       "GridSearchCV(cv=3, estimator=SVC(),\n",
       "             param_grid={'C': [1, 3, 5, 10], 'kernel': ['rbf']}, verbose=2)"
      ]
     },
     "execution_count": 77,
     "metadata": {},
     "output_type": "execute_result"
    }
   ],
   "source": [
    "grid = GridSearchCV(svm.SVC(), param_grid, refit = True, verbose = 2, cv = 3)\n",
    "grid.fit(X_train, y_train_coarse)"
   ]
  },
  {
   "cell_type": "code",
   "execution_count": 79,
   "id": "05363bba",
   "metadata": {},
   "outputs": [
    {
     "data": {
      "text/plain": [
       "{'C': 10, 'kernel': 'rbf'}"
      ]
     },
     "execution_count": 79,
     "metadata": {},
     "output_type": "execute_result"
    }
   ],
   "source": [
    "grid.best_params_"
   ]
  },
  {
   "cell_type": "code",
   "execution_count": 80,
   "id": "1e0576be",
   "metadata": {},
   "outputs": [
    {
     "data": {
      "text/plain": [
       "{'mean_fit_time': array([468.27123801, 616.39488037, 674.34278448, 643.64569839]),\n",
       " 'std_fit_time': array([13.47788027, 16.43955987,  9.85545462, 12.85850938]),\n",
       " 'mean_score_time': array([282.40538009, 271.46800137, 305.83484403, 286.491232  ]),\n",
       " 'std_score_time': array([25.62316314,  7.13313268, 30.51450189, 24.34674974]),\n",
       " 'param_C': masked_array(data=[1, 3, 5, 10],\n",
       "              mask=[False, False, False, False],\n",
       "        fill_value='?',\n",
       "             dtype=object),\n",
       " 'param_kernel': masked_array(data=['rbf', 'rbf', 'rbf', 'rbf'],\n",
       "              mask=[False, False, False, False],\n",
       "        fill_value='?',\n",
       "             dtype=object),\n",
       " 'params': [{'C': 1, 'kernel': 'rbf'},\n",
       "  {'C': 3, 'kernel': 'rbf'},\n",
       "  {'C': 5, 'kernel': 'rbf'},\n",
       "  {'C': 10, 'kernel': 'rbf'}],\n",
       " 'split0_test_score': array([0.37139257, 0.38699226, 0.38831223, 0.38867223]),\n",
       " 'split1_test_score': array([0.37409252, 0.39443211, 0.39467211, 0.39467211]),\n",
       " 'split2_test_score': array([0.37225489, 0.3900156 , 0.39019561, 0.3900756 ]),\n",
       " 'mean_test_score': array([0.37257999, 0.39047999, 0.39105998, 0.39113998]),\n",
       " 'std_test_score': array([0.00112597, 0.00305501, 0.00266738, 0.00256246]),\n",
       " 'rank_test_score': array([4, 3, 2, 1], dtype=int32)}"
      ]
     },
     "execution_count": 80,
     "metadata": {},
     "output_type": "execute_result"
    }
   ],
   "source": [
    "grid.cv_results_"
   ]
  },
  {
   "cell_type": "code",
   "execution_count": 83,
   "id": "0c444c92",
   "metadata": {},
   "outputs": [
    {
     "name": "stdout",
     "output_type": "stream",
     "text": [
      "Fitting 2 folds for each of 4 candidates, totalling 8 fits\n",
      "[CV] END ...................................C=10, kernel=rbf; total time=11.0min\n",
      "[CV] END ...................................C=10, kernel=rbf; total time=10.7min\n",
      "[CV] END ...................................C=20, kernel=rbf; total time=10.6min\n",
      "[CV] END ...................................C=20, kernel=rbf; total time=11.5min\n",
      "[CV] END ...................................C=50, kernel=rbf; total time=13.4min\n",
      "[CV] END ...................................C=50, kernel=rbf; total time=11.0min\n",
      "[CV] END ..................................C=100, kernel=rbf; total time=10.3min\n",
      "[CV] END ..................................C=100, kernel=rbf; total time=10.3min\n"
     ]
    },
    {
     "data": {
      "text/plain": [
       "GridSearchCV(cv=2, estimator=SVC(),\n",
       "             param_grid={'C': [10, 20, 50, 100], 'kernel': ['rbf']}, verbose=2)"
      ]
     },
     "execution_count": 83,
     "metadata": {},
     "output_type": "execute_result"
    }
   ],
   "source": [
    "param_grid_2 = {'C': [10, 20, 50, 100],\n",
    "              'kernel': ['rbf']}\n",
    "grid = GridSearchCV(svm.SVC(), param_grid_2, refit = True, verbose = 2, cv = 2)\n",
    "grid.fit(X_train, y_train_coarse)"
   ]
  },
  {
   "cell_type": "code",
   "execution_count": 85,
   "id": "ff4846cb",
   "metadata": {},
   "outputs": [
    {
     "data": {
      "text/plain": [
       "{'mean_fit_time': array([349.19450557, 351.55079103, 379.81197596, 339.43368351]),\n",
       " 'std_fit_time': array([ 6.46969736,  6.7639811 , 22.27502084,  2.49527967]),\n",
       " 'mean_score_time': array([300.28886592, 313.62671757, 351.23422587, 278.85999739]),\n",
       " 'std_score_time': array([1.09634912e+00, 1.97413416e+01, 5.12065459e+01, 3.43445539e-02]),\n",
       " 'param_C': masked_array(data=[10, 20, 50, 100],\n",
       "              mask=[False, False, False, False],\n",
       "        fill_value='?',\n",
       "             dtype=object),\n",
       " 'param_kernel': masked_array(data=['rbf', 'rbf', 'rbf', 'rbf'],\n",
       "              mask=[False, False, False, False],\n",
       "        fill_value='?',\n",
       "             dtype=object),\n",
       " 'params': [{'C': 10, 'kernel': 'rbf'},\n",
       "  {'C': 20, 'kernel': 'rbf'},\n",
       "  {'C': 50, 'kernel': 'rbf'},\n",
       "  {'C': 100, 'kernel': 'rbf'}],\n",
       " 'split0_test_score': array([0.3748, 0.3748, 0.3748, 0.3748]),\n",
       " 'split1_test_score': array([0.3738 , 0.37384, 0.37384, 0.37384]),\n",
       " 'mean_test_score': array([0.3743 , 0.37432, 0.37432, 0.37432]),\n",
       " 'std_test_score': array([0.0005 , 0.00048, 0.00048, 0.00048]),\n",
       " 'rank_test_score': array([4, 1, 1, 1], dtype=int32)}"
      ]
     },
     "execution_count": 85,
     "metadata": {},
     "output_type": "execute_result"
    }
   ],
   "source": [
    "grid.cv_results_"
   ]
  },
  {
   "cell_type": "code",
   "execution_count": 88,
   "id": "68d4fab2",
   "metadata": {},
   "outputs": [
    {
     "name": "stdout",
     "output_type": "stream",
     "text": [
      "{'C': 20, 'kernel': 'rbf'}\n",
      "0.37432\n"
     ]
    }
   ],
   "source": [
    "print(grid.best_params_)\n",
    "print(grid.best_score_)"
   ]
  },
  {
   "cell_type": "code",
   "execution_count": null,
   "id": "751e7c7b",
   "metadata": {},
   "outputs": [],
   "source": []
  }
 ],
 "metadata": {
  "kernelspec": {
   "display_name": "Python 3 (ipykernel)",
   "language": "python",
   "name": "python3"
  },
  "language_info": {
   "codemirror_mode": {
    "name": "ipython",
    "version": 3
   },
   "file_extension": ".py",
   "mimetype": "text/x-python",
   "name": "python",
   "nbconvert_exporter": "python",
   "pygments_lexer": "ipython3",
   "version": "3.8.2"
  }
 },
 "nbformat": 4,
 "nbformat_minor": 5
}
